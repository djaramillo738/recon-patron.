{
 "cells": [
  {
   "cell_type": "markdown",
   "metadata": {},
   "source": [
    "# EJERCICIO 8 (CAPÍTULO 8 EJERCICIO 11)"
   ]
  },
  {
   "cell_type": "code",
   "execution_count": 59,
   "metadata": {
    "collapsed": true
   },
   "outputs": [],
   "source": [
    "import pandas as pd\n",
    "import numpy as np\n",
    "import matplotlib.pyplot as plt\n",
    "from sklearn import ensemble\n",
    "from sklearn.metrics import mean_squared_error\n",
    "from sklearn.model_selection import train_test_split\n",
    "%matplotlib inline"
   ]
  },
  {
   "cell_type": "markdown",
   "metadata": {},
   "source": [
    "## (a)"
   ]
  },
  {
   "cell_type": "code",
   "execution_count": 93,
   "metadata": {},
   "outputs": [],
   "source": [
    "caravan=pd.read_csv('data/Caravan.csv')"
   ]
  },
  {
   "cell_type": "code",
   "execution_count": 95,
   "metadata": {},
   "outputs": [
    {
     "data": {
      "text/html": [
       "<div>\n",
       "<style>\n",
       "    .dataframe thead tr:only-child th {\n",
       "        text-align: right;\n",
       "    }\n",
       "\n",
       "    .dataframe thead th {\n",
       "        text-align: left;\n",
       "    }\n",
       "\n",
       "    .dataframe tbody tr th {\n",
       "        vertical-align: top;\n",
       "    }\n",
       "</style>\n",
       "<table border=\"1\" class=\"dataframe\">\n",
       "  <thead>\n",
       "    <tr style=\"text-align: right;\">\n",
       "      <th></th>\n",
       "      <th>ORIGIN</th>\n",
       "      <th>MOSTYPE</th>\n",
       "      <th>MAANTHUI</th>\n",
       "      <th>MGEMOMV</th>\n",
       "      <th>MGEMLEEF</th>\n",
       "      <th>MOSHOOFD</th>\n",
       "      <th>MGODRK</th>\n",
       "      <th>MGODPR</th>\n",
       "      <th>MGODOV</th>\n",
       "      <th>MGODGE</th>\n",
       "      <th>...</th>\n",
       "      <th>APERSONG</th>\n",
       "      <th>AGEZONG</th>\n",
       "      <th>AWAOREG</th>\n",
       "      <th>ABRAND</th>\n",
       "      <th>AZEILPL</th>\n",
       "      <th>APLEZIER</th>\n",
       "      <th>AFIETS</th>\n",
       "      <th>AINBOED</th>\n",
       "      <th>ABYSTAND</th>\n",
       "      <th>CARAVAN</th>\n",
       "    </tr>\n",
       "  </thead>\n",
       "  <tbody>\n",
       "    <tr>\n",
       "      <th>0</th>\n",
       "      <td>train</td>\n",
       "      <td>33</td>\n",
       "      <td>1</td>\n",
       "      <td>3</td>\n",
       "      <td>2</td>\n",
       "      <td>8</td>\n",
       "      <td>0</td>\n",
       "      <td>5</td>\n",
       "      <td>1</td>\n",
       "      <td>3</td>\n",
       "      <td>...</td>\n",
       "      <td>0</td>\n",
       "      <td>0</td>\n",
       "      <td>0</td>\n",
       "      <td>1</td>\n",
       "      <td>0</td>\n",
       "      <td>0</td>\n",
       "      <td>0</td>\n",
       "      <td>0</td>\n",
       "      <td>0</td>\n",
       "      <td>0</td>\n",
       "    </tr>\n",
       "    <tr>\n",
       "      <th>1</th>\n",
       "      <td>train</td>\n",
       "      <td>37</td>\n",
       "      <td>1</td>\n",
       "      <td>2</td>\n",
       "      <td>2</td>\n",
       "      <td>8</td>\n",
       "      <td>1</td>\n",
       "      <td>4</td>\n",
       "      <td>1</td>\n",
       "      <td>4</td>\n",
       "      <td>...</td>\n",
       "      <td>0</td>\n",
       "      <td>0</td>\n",
       "      <td>0</td>\n",
       "      <td>1</td>\n",
       "      <td>0</td>\n",
       "      <td>0</td>\n",
       "      <td>0</td>\n",
       "      <td>0</td>\n",
       "      <td>0</td>\n",
       "      <td>0</td>\n",
       "    </tr>\n",
       "    <tr>\n",
       "      <th>2</th>\n",
       "      <td>train</td>\n",
       "      <td>37</td>\n",
       "      <td>1</td>\n",
       "      <td>2</td>\n",
       "      <td>2</td>\n",
       "      <td>8</td>\n",
       "      <td>0</td>\n",
       "      <td>4</td>\n",
       "      <td>2</td>\n",
       "      <td>4</td>\n",
       "      <td>...</td>\n",
       "      <td>0</td>\n",
       "      <td>0</td>\n",
       "      <td>0</td>\n",
       "      <td>1</td>\n",
       "      <td>0</td>\n",
       "      <td>0</td>\n",
       "      <td>0</td>\n",
       "      <td>0</td>\n",
       "      <td>0</td>\n",
       "      <td>0</td>\n",
       "    </tr>\n",
       "    <tr>\n",
       "      <th>3</th>\n",
       "      <td>train</td>\n",
       "      <td>9</td>\n",
       "      <td>1</td>\n",
       "      <td>3</td>\n",
       "      <td>3</td>\n",
       "      <td>3</td>\n",
       "      <td>2</td>\n",
       "      <td>3</td>\n",
       "      <td>2</td>\n",
       "      <td>4</td>\n",
       "      <td>...</td>\n",
       "      <td>0</td>\n",
       "      <td>0</td>\n",
       "      <td>0</td>\n",
       "      <td>1</td>\n",
       "      <td>0</td>\n",
       "      <td>0</td>\n",
       "      <td>0</td>\n",
       "      <td>0</td>\n",
       "      <td>0</td>\n",
       "      <td>0</td>\n",
       "    </tr>\n",
       "    <tr>\n",
       "      <th>4</th>\n",
       "      <td>train</td>\n",
       "      <td>40</td>\n",
       "      <td>1</td>\n",
       "      <td>4</td>\n",
       "      <td>2</td>\n",
       "      <td>10</td>\n",
       "      <td>1</td>\n",
       "      <td>4</td>\n",
       "      <td>1</td>\n",
       "      <td>4</td>\n",
       "      <td>...</td>\n",
       "      <td>0</td>\n",
       "      <td>0</td>\n",
       "      <td>0</td>\n",
       "      <td>1</td>\n",
       "      <td>0</td>\n",
       "      <td>0</td>\n",
       "      <td>0</td>\n",
       "      <td>0</td>\n",
       "      <td>0</td>\n",
       "      <td>0</td>\n",
       "    </tr>\n",
       "  </tbody>\n",
       "</table>\n",
       "<p>5 rows × 87 columns</p>\n",
       "</div>"
      ],
      "text/plain": [
       "  ORIGIN  MOSTYPE  MAANTHUI  MGEMOMV  MGEMLEEF  MOSHOOFD  MGODRK  MGODPR  \\\n",
       "0  train       33         1        3         2         8       0       5   \n",
       "1  train       37         1        2         2         8       1       4   \n",
       "2  train       37         1        2         2         8       0       4   \n",
       "3  train        9         1        3         3         3       2       3   \n",
       "4  train       40         1        4         2        10       1       4   \n",
       "\n",
       "   MGODOV  MGODGE   ...     APERSONG  AGEZONG  AWAOREG  ABRAND  AZEILPL  \\\n",
       "0       1       3   ...            0        0        0       1        0   \n",
       "1       1       4   ...            0        0        0       1        0   \n",
       "2       2       4   ...            0        0        0       1        0   \n",
       "3       2       4   ...            0        0        0       1        0   \n",
       "4       1       4   ...            0        0        0       1        0   \n",
       "\n",
       "   APLEZIER  AFIETS  AINBOED  ABYSTAND  CARAVAN  \n",
       "0         0       0        0         0        0  \n",
       "1         0       0        0         0        0  \n",
       "2         0       0        0         0        0  \n",
       "3         0       0        0         0        0  \n",
       "4         0       0        0         0        0  \n",
       "\n",
       "[5 rows x 87 columns]"
      ]
     },
     "execution_count": 95,
     "metadata": {},
     "output_type": "execute_result"
    }
   ],
   "source": [
    "caravan.head()"
   ]
  },
  {
   "cell_type": "code",
   "execution_count": 103,
   "metadata": {},
   "outputs": [
    {
     "name": "stdout",
     "output_type": "stream",
     "text": [
      "(1000, 85) (8822, 85) (1000,) (8822,)\n"
     ]
    }
   ],
   "source": [
    "X_train=caravan.drop(['MKOOPKLA', 'ORIGIN'], axis=1).iloc[0:1000,:]\n",
    "X_test=caravan.drop(['MKOOPKLA', 'ORIGIN'], axis=1).iloc[1000:9823,:]\n",
    "y_train=caravan.loc[0:999,'MKOOPKLA']\n",
    "y_test=caravan.loc[1000:9822,'MKOOPKLA']\n",
    "print(X_train.shape, X_test.shape, y_train.shape, y_test.shape)"
   ]
  },
  {
   "cell_type": "markdown",
   "metadata": {},
   "source": [
    "## (b)"
   ]
  },
  {
   "cell_type": "code",
   "execution_count": 125,
   "metadata": {},
   "outputs": [
    {
     "data": {
      "text/plain": [
       "0.98025226188414405"
      ]
     },
     "execution_count": 125,
     "metadata": {},
     "output_type": "execute_result"
    }
   ],
   "source": [
    "params = {'n_estimators': 1000, 'max_depth': 4, 'min_samples_split': 2,\n",
    "          'learning_rate': 0.01, 'loss': 'ls'}\n",
    "clf = ensemble.GradientBoostingRegressor(**params)\n",
    "clf.fit(X_train, y_train)\n",
    "clf.score(X_test, y_test)"
   ]
  },
  {
   "cell_type": "code",
   "execution_count": 126,
   "metadata": {},
   "outputs": [
    {
     "data": {
      "image/png": "[encoded data removed]",
      "text/plain": [
       "<matplotlib.figure.Figure at 0x236a41779b0>"
      ]
     },
     "metadata": {},
     "output_type": "display_data"
    }
   ],
   "source": [
    "test_score = np.zeros((params['n_estimators'],), dtype=np.float64)\n",
    "for i, y_pred in enumerate(clf.staged_predict(X_test)):\n",
    "    test_score[i] = clf.loss_(y_test, y_pred)\n",
    "\n",
    "plt.figure(figsize=(12, 6))\n",
    "plt.subplot(1, 2, 1)\n",
    "plt.title('Desviación')\n",
    "plt.plot(np.arange(params['n_estimators']) + 1, clf.train_score_, 'b-',\n",
    "         label='Entrenamiento')\n",
    "plt.plot(np.arange(params['n_estimators']) + 1, test_score, '#dcd4f9',\n",
    "         label='Prueba')\n",
    "plt.legend(loc='upper right')\n",
    "plt.xlabel('Iteraciones')\n",
    "plt.ylabel('Desviación')\n",
    "plt.show()"
   ]
  },
  {
   "cell_type": "code",
   "execution_count": 127,
   "metadata": {},
   "outputs": [
    {
     "data": {
      "image/png": "[encoded data removed]",
      "text/plain": [
       "<matplotlib.figure.Figure at 0x236a404bc50>"
      ]
     },
     "metadata": {},
     "output_type": "display_data"
    }
   ],
   "source": [
    "columnas=[]\n",
    "for col in caravan.drop(['ORIGIN', 'MKOOPKLA'], axis=1).columns:\n",
    "    columnas.append(col)\n",
    "# Plot feature importance\n",
    "feature_importance = clf.feature_importances_\n",
    "# make importances relative to max importance\n",
    "feature_importance = 100.0 * (feature_importance / feature_importance.max())\n",
    "sorted_idx = np.argsort(feature_importance)\n",
    "pos = np.arange(sorted_idx.shape[0]) + .5\n",
    "plt.subplot(1, 2, 2)\n",
    "plt.barh(pos, feature_importance[sorted_idx], align='center')\n",
    "#plt.yticks(pos, caravan.feature_names[sorted_idx])\n",
    "plt.xlabel('Relative Importance')\n",
    "plt.yticks(pos, columnas)\n",
    "plt.title('Variable Importance')\n",
    "plt.ylim((45, 85))\n",
    "plt.show()"
   ]
  },
  {
   "cell_type": "markdown",
   "metadata": {},
   "source": [
    "CARAVAN y ABYSTAND"
   ]
  },
  {
   "cell_type": "markdown",
   "metadata": {},
   "source": [
    "## (c)"
   ]
  },
  {
   "cell_type": "code",
   "execution_count": 128,
   "metadata": {},
   "outputs": [
    {
     "name": "stdout",
     "output_type": "stream",
     "text": [
      "MOSTYPE 0.4893197430\n",
      "MAANTHUI 0.0038338190\n",
      "MGEMOMV 0.0005815127\n",
      "MGEMLEEF 0.0067742834\n",
      "MOSHOOFD 0.1309475066\n",
      "MGODRK 0.0219206537\n",
      "MGODPR 0.0122258530\n",
      "MGODOV 0.0030906842\n",
      "MGODGE 0.0151573396\n",
      "MRELGE 0.0032623466\n",
      "MRELSA 0.0043673479\n",
      "MRELOV 0.0051097587\n",
      "MFALLEEN 0.0063901848\n",
      "MFGEKIND 0.0013927441\n",
      "MFWEKIND 0.0145253491\n",
      "MOPLHOOG 0.0101947364\n",
      "MOPLMIDD 0.0086288567\n",
      "MOPLLAAG 0.0026024222\n",
      "MBERHOOG 0.0129683132\n",
      "MBERZELF 0.0064832660\n",
      "MBERBOER 0.0126997669\n",
      "MBERMIDD 0.0030732613\n",
      "MBERARBG 0.0090890158\n",
      "MBERARBO 0.0080544658\n",
      "MSKA 0.0063040892\n",
      "MSKB1 0.0056843069\n",
      "MSKB2 0.0053202481\n",
      "MSKC 0.0114793635\n",
      "MSKD 0.0121880403\n",
      "MHHUUR 0.0134022224\n",
      "MHKOOP 0.0101523681\n",
      "MAUT1 0.0139572823\n",
      "MAUT2 0.0234203057\n",
      "MAUT0 0.0061217725\n",
      "MZFONDS 0.0092760176\n",
      "MZPART 0.0081918970\n",
      "MINKM30 0.0115462221\n",
      "MINK3045 0.0041241481\n",
      "MINK4575 0.0118996765\n",
      "MINK7512 0.0064664556\n",
      "MINK123M 0.0053688315\n",
      "MINKGEM 0.0119188345\n",
      "PWAPART 0.0019359619\n",
      "PWABEDR 0.0000026646\n",
      "PWALAND 0.0000000000\n",
      "PPERSAUT 0.0005499650\n",
      "PBESAUT 0.0000000000\n",
      "PMOTSCO 0.0030196055\n",
      "PVRAAUT 0.0000000000\n",
      "PAANHANG 0.0017538594\n",
      "PTRACTOR 0.0000000000\n",
      "PWERKT 0.0000010721\n",
      "PBROM 0.0000785738\n",
      "PLEVEN 0.0019222550\n",
      "PPERSONG 0.0007382127\n",
      "PGEZONG 0.0000000000\n",
      "PWAOREG 0.0000000000\n",
      "PBRAND 0.0066437307\n",
      "PZEILPL 0.0000000000\n",
      "PPLEZIER 0.0000133412\n",
      "PFIETS 0.0000000000\n",
      "PINBOED 0.0000000000\n",
      "PBYSTAND 0.0055126210\n",
      "AWAPART 0.0004899437\n",
      "AWABEDR 0.0000066784\n",
      "AWALAND 0.0000020427\n",
      "APERSAUT 0.0000983418\n",
      "ABESAUT 0.0000000000\n",
      "AMOTSCO 0.0007953430\n",
      "AVRAAUT 0.0000000000\n",
      "AAANHANG 0.0008546230\n",
      "ATRACTOR 0.0000010785\n",
      "AWERKT 0.0000022877\n",
      "ABROM 0.0000487643\n",
      "ALEVEN 0.0020540694\n",
      "APERSONG 0.0008021777\n",
      "AGEZONG 0.0000000000\n",
      "AWAOREG 0.0000000000\n",
      "ABRAND 0.0017926010\n",
      "AZEILPL 0.0000000000\n",
      "APLEZIER 0.0000267887\n",
      "AFIETS 0.0000000000\n",
      "AINBOED 0.0000249567\n",
      "ABYSTAND 0.0000000000\n",
      "CARAVAN 0.0013131278\n"
     ]
    }
   ],
   "source": [
    "np.set_printoptions(suppress=True)\n",
    "for x in range(len(clf.feature_importances_)):\n",
    "    print(columnas[x], '{0:.10f}'.format(clf.feature_importances_[x]))"
   ]
  },
  {
   "cell_type": "markdown",
   "metadata": {},
   "source": [
    "## (c)"
   ]
  },
  {
   "cell_type": "code",
   "execution_count": 129,
   "metadata": {},
   "outputs": [],
   "source": [
    "from sklearn.metrics import confusion_matrix"
   ]
  },
  {
   "cell_type": "code",
   "execution_count": 130,
   "metadata": {},
   "outputs": [
    {
     "data": {
      "text/plain": [
       "array([[   0,    0,    0,    0,    0,    0,    0,    0,    0],\n",
       "       [  14,  800,   25,    0,    0,    0,    0,    0,    0],\n",
       "       [   0,  297,  341,   19,    0,    0,    0,    0,    0],\n",
       "       [   0,    0,  861, 1406,   13,    0,    0,    0,    0],\n",
       "       [   0,    0,   13,  805,  555,   19,    0,    0,    0],\n",
       "       [   0,    0,    1,   27,  788,   52,    3,    0,    0],\n",
       "       [   0,    0,    0,    1,    3,  770,  660,    0,    0],\n",
       "       [   0,    0,    0,    0,    0,   15,  448,  237,    0],\n",
       "       [   0,    0,    0,    0,    0,    1,   30,  566,   52]])"
      ]
     },
     "execution_count": 130,
     "metadata": {},
     "output_type": "execute_result"
    }
   ],
   "source": [
    "confusion_matrix(np.array(y_test), [int(x) for x in clf.predict(X_test)])"
   ]
  },
  {
   "cell_type": "code",
   "execution_count": 131,
   "metadata": {},
   "outputs": [],
   "source": [
    "from sklearn import neighbors\n",
    "knn=neighbors.KNeighborsClassifier()"
   ]
  },
  {
   "cell_type": "code",
   "execution_count": 132,
   "metadata": {},
   "outputs": [
    {
     "data": {
      "text/plain": [
       "KNeighborsClassifier(algorithm='auto', leaf_size=30, metric='minkowski',\n",
       "           metric_params=None, n_jobs=1, n_neighbors=5, p=2,\n",
       "           weights='uniform')"
      ]
     },
     "execution_count": 132,
     "metadata": {},
     "output_type": "execute_result"
    }
   ],
   "source": [
    "knn.fit(X_train, y_train)"
   ]
  },
  {
   "cell_type": "code",
   "execution_count": 133,
   "metadata": {},
   "outputs": [
    {
     "data": {
      "text/plain": [
       "0.62672863296304693"
      ]
     },
     "execution_count": 133,
     "metadata": {},
     "output_type": "execute_result"
    }
   ],
   "source": [
    "knn.score(X_test, y_test)"
   ]
  },
  {
   "cell_type": "code",
   "execution_count": 134,
   "metadata": {
    "collapsed": true
   },
   "outputs": [],
   "source": [
    "from sklearn.linear_model import LogisticRegression"
   ]
  },
  {
   "cell_type": "code",
   "execution_count": 135,
   "metadata": {
    "collapsed": true
   },
   "outputs": [],
   "source": [
    "lr=LogisticRegression()"
   ]
  },
  {
   "cell_type": "code",
   "execution_count": 136,
   "metadata": {},
   "outputs": [
    {
     "data": {
      "text/plain": [
       "0.51983677170709586"
      ]
     },
     "execution_count": 136,
     "metadata": {},
     "output_type": "execute_result"
    }
   ],
   "source": [
    "lr.fit(X_train, y_train)\n",
    "lr.score(X_test, y_test)"
   ]
  },
  {
   "cell_type": "markdown",
   "metadata": {},
   "source": [
    "## Un Boosting es mucho más preciso para este escenario. Vecinos más cercanos no es mucho mejor que lanzar una moneda al aire y una regresión logística es prácticamente lanzar la moneda."
   ]
  },
  {
   "cell_type": "code",
   "execution_count": null,
   "metadata": {
    "collapsed": true
   },
   "outputs": [],
   "source": []
  }
 ],
 "metadata": {
  "kernelspec": {
   "display_name": "Python 3",
   "language": "python",
   "name": "python3"
  },
  "language_info": {
   "codemirror_mode": {
    "name": "ipython",
    "version": 3
   },
   "file_extension": ".py",
   "mimetype": "text/x-python",
   "name": "python",
   "nbconvert_exporter": "python",
   "pygments_lexer": "ipython3",
   "version": "3.6.1"
  }
 },
 "nbformat": 4,
 "nbformat_minor": 2
}
