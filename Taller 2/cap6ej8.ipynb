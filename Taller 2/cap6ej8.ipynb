{
 "cells": [
  {
   "cell_type": "markdown",
   "metadata": {},
   "source": [
    "# EJERCICIO 3 (CAPÍTULO 6 EJERCICIO 8)"
   ]
  },
  {
   "cell_type": "markdown",
   "metadata": {},
   "source": [
    "## (a)"
   ]
  },
  {
   "cell_type": "code",
   "execution_count": 4,
   "metadata": {
    "collapsed": true
   },
   "outputs": [],
   "source": [
    "X = rnorm(100, mean = 0, sd = 1)\n",
    "e = rnorm(100, mean = 0, sd = 0.5)"
   ]
  },
  {
   "cell_type": "markdown",
   "metadata": {},
   "source": [
    "## (b)"
   ]
  },
  {
   "cell_type": "code",
   "execution_count": 5,
   "metadata": {},
   "outputs": [],
   "source": [
    "b0=1\n",
    "b1=-1\n",
    "b2=1\n",
    "b3=2\n",
    "Y=b0+b1*X+b2*X^2+b3*X^3+e"
   ]
  },
  {
   "cell_type": "markdown",
   "metadata": {},
   "source": [
    "## (c)"
   ]
  },
  {
   "cell_type": "code",
   "execution_count": 15,
   "metadata": {},
   "outputs": [
    {
     "data": {
      "image/png": "[encoded data removed]",
      "text/plain": [
       "plot without title"
      ]
     },
     "metadata": {},
     "output_type": "display_data"
    }
   ],
   "source": [
    "library(leaps)\n",
    "\n",
    "df      = data.frame(Y = Y, X = X)\n",
    "fit     = regsubsets(Y ~ poly(X, 10, raw = T), data = df, nvmax = 10)\n",
    "fit_sum = summary(fit)\n",
    "\n",
    "par(mfrow = c(2,2)) # Display graphs in two rows, two columns\n",
    "x_axis_label = 'Número de features'\n",
    "\n",
    "plot   (fit_sum$rss,xlab = x_axis_label, ylab = 'RSS', type = 'l')\n",
    "\n",
    "plot   (fit_sum$cp,xlab = x_axis_label, ylab = 'Cp', type = 'l')\n",
    "points (which.min(fit_sum$cp), fit_sum$cp[which.min(fit_sum$cp)], col = '#221277', pch = 15, cex = 2)\n",
    "\n",
    "plot   (fit_sum$bic,xlab = x_axis_label,  ylab = 'BIC', type = 'l')\n",
    "points (which.min(fit_sum$bic), fit_sum$bic[which.min(fit_sum$bic)], col = '#221277', pch = 15, cex = 2)\n",
    "\n",
    "plot   (fit_sum$adjr2,xlab = x_axis_label, ylab = 'R2', type = 'l')\n",
    "points (which.max(fit_sum$adjr2), fit_sum$adjr2[which.max(fit_sum$adjr2)], col = '#221277', pch = 15, cex = 2)"
   ]
  },
  {
   "cell_type": "code",
   "execution_count": 16,
   "metadata": {},
   "outputs": [
    {
     "data": {
      "text/html": [
       "<dl class=dl-horizontal>\n",
       "\t<dt>(Intercept)</dt>\n",
       "\t\t<dd>1.06654364286835</dd>\n",
       "\t<dt>poly(X, 10, raw = T)2</dt>\n",
       "\t\t<dd>0.977514989646218</dd>\n",
       "\t<dt>poly(X, 10, raw = T)3</dt>\n",
       "\t\t<dd>1.78768898015086</dd>\n",
       "</dl>\n"
      ],
      "text/latex": [
       "\\begin{description*}\n",
       "\\item[(Intercept)] 1.06654364286835\n",
       "\\item[poly(X, 10, raw = T)2] 0.977514989646218\n",
       "\\item[poly(X, 10, raw = T)3] 1.78768898015086\n",
       "\\end{description*}\n"
      ],
      "text/markdown": [
       "(Intercept)\n",
       ":   1.06654364286835poly(X, 10, raw = T)2\n",
       ":   0.977514989646218poly(X, 10, raw = T)3\n",
       ":   1.78768898015086\n",
       "\n"
      ],
      "text/plain": [
       "          (Intercept) poly(X, 10, raw = T)2 poly(X, 10, raw = T)3 \n",
       "             1.066544              0.977515              1.787689 "
      ]
     },
     "metadata": {},
     "output_type": "display_data"
    }
   ],
   "source": [
    "coef(fit, 2)"
   ]
  },
  {
   "cell_type": "code",
   "execution_count": 17,
   "metadata": {},
   "outputs": [
    {
     "data": {
      "text/html": [
       "<dl class=dl-horizontal>\n",
       "\t<dt>(Intercept)</dt>\n",
       "\t\t<dd>0.979554250900817</dd>\n",
       "\t<dt>poly(X, 10, raw = T)1</dt>\n",
       "\t\t<dd>-0.974861382243713</dd>\n",
       "\t<dt>poly(X, 10, raw = T)2</dt>\n",
       "\t\t<dd>1.16530151838875</dd>\n",
       "\t<dt>poly(X, 10, raw = T)3</dt>\n",
       "\t\t<dd>1.9911026608184</dd>\n",
       "\t<dt>poly(X, 10, raw = T)6</dt>\n",
       "\t\t<dd>-0.00436825098468396</dd>\n",
       "</dl>\n"
      ],
      "text/latex": [
       "\\begin{description*}\n",
       "\\item[(Intercept)] 0.979554250900817\n",
       "\\item[poly(X, 10, raw = T)1] -0.974861382243713\n",
       "\\item[poly(X, 10, raw = T)2] 1.16530151838875\n",
       "\\item[poly(X, 10, raw = T)3] 1.9911026608184\n",
       "\\item[poly(X, 10, raw = T)6] -0.00436825098468396\n",
       "\\end{description*}\n"
      ],
      "text/markdown": [
       "(Intercept)\n",
       ":   0.979554250900817poly(X, 10, raw = T)1\n",
       ":   -0.974861382243713poly(X, 10, raw = T)2\n",
       ":   1.16530151838875poly(X, 10, raw = T)3\n",
       ":   1.9911026608184poly(X, 10, raw = T)6\n",
       ":   -0.00436825098468396\n",
       "\n"
      ],
      "text/plain": [
       "          (Intercept) poly(X, 10, raw = T)1 poly(X, 10, raw = T)2 \n",
       "          0.979554251          -0.974861382           1.165301518 \n",
       "poly(X, 10, raw = T)3 poly(X, 10, raw = T)6 \n",
       "          1.991102661          -0.004368251 "
      ]
     },
     "metadata": {},
     "output_type": "display_data"
    }
   ],
   "source": [
    "coef(fit, 4)"
   ]
  },
  {
   "cell_type": "code",
   "execution_count": 18,
   "metadata": {},
   "outputs": [
    {
     "data": {
      "text/html": [
       "<dl class=dl-horizontal>\n",
       "\t<dt>(Intercept)</dt>\n",
       "\t\t<dd>0.98040355330135</dd>\n",
       "\t<dt>poly(X, 10, raw = T)1</dt>\n",
       "\t\t<dd>-1.03548685190416</dd>\n",
       "\t<dt>poly(X, 10, raw = T)2</dt>\n",
       "\t\t<dd>1.15781049167349</dd>\n",
       "\t<dt>poly(X, 10, raw = T)3</dt>\n",
       "\t\t<dd>2.03560966848955</dd>\n",
       "\t<dt>poly(X, 10, raw = T)8</dt>\n",
       "\t\t<dd>-0.000728369088341595</dd>\n",
       "\t<dt>poly(X, 10, raw = T)9</dt>\n",
       "\t\t<dd>-0.000166367788732047</dd>\n",
       "</dl>\n"
      ],
      "text/latex": [
       "\\begin{description*}\n",
       "\\item[(Intercept)] 0.98040355330135\n",
       "\\item[poly(X, 10, raw = T)1] -1.03548685190416\n",
       "\\item[poly(X, 10, raw = T)2] 1.15781049167349\n",
       "\\item[poly(X, 10, raw = T)3] 2.03560966848955\n",
       "\\item[poly(X, 10, raw = T)8] -0.000728369088341595\n",
       "\\item[poly(X, 10, raw = T)9] -0.000166367788732047\n",
       "\\end{description*}\n"
      ],
      "text/markdown": [
       "(Intercept)\n",
       ":   0.98040355330135poly(X, 10, raw = T)1\n",
       ":   -1.03548685190416poly(X, 10, raw = T)2\n",
       ":   1.15781049167349poly(X, 10, raw = T)3\n",
       ":   2.03560966848955poly(X, 10, raw = T)8\n",
       ":   -0.000728369088341595poly(X, 10, raw = T)9\n",
       ":   -0.000166367788732047\n",
       "\n"
      ],
      "text/plain": [
       "          (Intercept) poly(X, 10, raw = T)1 poly(X, 10, raw = T)2 \n",
       "         0.9804035533         -1.0354868519          1.1578104917 \n",
       "poly(X, 10, raw = T)3 poly(X, 10, raw = T)8 poly(X, 10, raw = T)9 \n",
       "         2.0356096685         -0.0007283691         -0.0001663678 "
      ]
     },
     "metadata": {},
     "output_type": "display_data"
    }
   ],
   "source": [
    "coef(fit, 5)"
   ]
  },
  {
   "cell_type": "markdown",
   "metadata": {},
   "source": [
    "## (d)"
   ]
  },
  {
   "cell_type": "code",
   "execution_count": 20,
   "metadata": {},
   "outputs": [
    {
     "data": {
      "image/png": "[encoded data removed]",
      "text/plain": [
       "plot without title"
      ]
     },
     "metadata": {},
     "output_type": "display_data"
    }
   ],
   "source": [
    "fit = regsubsets(Y~poly(X, 10, raw = T), data = df, nvmax = 10, method = 'forward')\n",
    "fit_sum = summary(fit)\n",
    "\n",
    "par(mfrow = c(2, 2))\n",
    "\n",
    "plot(fit_sum$rss, xlab = 'Número de features', ylab = 'RSS', type = 'l')\n",
    "\n",
    "plot(fit_sum$cp, xlab = 'Número de features', ylab = 'Cp', type = 'l')\n",
    "points(which.min(fit_sum$cp), fit_sum$cp[which.min(fit_sum$cp)], col = '#2f6581', pch = 15, cex = 2)\n",
    "\n",
    "plot(fit_sum$bic, xlab = 'Número de features', ylab = 'BIC',  type = 'l')\n",
    "points(which.min(fit_sum$bic), fit_sum$bic[which.min(fit_sum$bic)], col = '#2f6581', pch = 15, cex = 2)\n",
    "\n",
    "plot(fit_sum$adjr2, xlab = 'Número de features', ylab = 'Adjusted R2', type = 'l')\n",
    "points(which.max(fit_sum$adjr2), fit_sum$adjr2[which.max(fit_sum$adjr2)], col = '#2f6581', pch = 15, cex = 2)"
   ]
  }
 ],
 "metadata": {
  "kernelspec": {
   "display_name": "R",
   "language": "R",
   "name": "ir"
  },
  "language_info": {
   "codemirror_mode": "r",
   "file_extension": ".r",
   "mimetype": "text/x-r-source",
   "name": "R",
   "pygments_lexer": "r",
   "version": "3.4.1"
  }
 },
 "nbformat": 4,
 "nbformat_minor": 2
}
